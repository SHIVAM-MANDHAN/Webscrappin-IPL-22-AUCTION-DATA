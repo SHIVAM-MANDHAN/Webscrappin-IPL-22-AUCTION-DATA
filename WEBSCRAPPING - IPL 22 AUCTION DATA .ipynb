{
 "cells": [
  {
   "cell_type": "code",
   "execution_count": 1,
   "id": "1a87c69d",
   "metadata": {},
   "outputs": [],
   "source": [
    "import pandas as pd\n",
    "from bs4 import BeautifulSoup\n",
    "import requests"
   ]
  },
  {
   "cell_type": "code",
   "execution_count": 2,
   "id": "d01dc268",
   "metadata": {},
   "outputs": [
    {
     "name": "stdout",
     "output_type": "stream",
     "text": [
      "<Response [200]>\n"
     ]
    }
   ],
   "source": [
    "url = \"https://www.iplt20.com/auction/2022\"\n",
    "r = requests.get(url)\n",
    "print(r)"
   ]
  },
  {
   "cell_type": "code",
   "execution_count": 3,
   "id": "8a0b6aa0",
   "metadata": {},
   "outputs": [],
   "source": [
    "soup = BeautifulSoup(r.text, \"lxml\")"
   ]
  },
  {
   "cell_type": "code",
   "execution_count": 4,
   "id": "f5c9ab41",
   "metadata": {},
   "outputs": [],
   "source": [
    "table = soup.find(\"table\", class_ = \"ih-td-tab auction-tbl\")\n",
    "title = table.find_all(\"th\")"
   ]
  },
  {
   "cell_type": "code",
   "execution_count": 6,
   "id": "a3958523",
   "metadata": {},
   "outputs": [
    {
     "name": "stdout",
     "output_type": "stream",
     "text": [
      "TEAM\n",
      "FUNDS REMAINING\n",
      "OVERSEAS PLAYERS \n",
      "TOTAL PLAYERS\n"
     ]
    }
   ],
   "source": [
    "headers = []\n",
    "for i in title:\n",
    "    headers.append(i.text)"
   ]
  },
  {
   "cell_type": "code",
   "execution_count": 10,
   "id": "94e4d7e1",
   "metadata": {},
   "outputs": [
    {
     "name": "stdout",
     "output_type": "stream",
     "text": [
      "[<tr class=\"ih-pt-tbl\" style=\"display:revert\">\n",
      "<th class=\"skip-filter\" style=\"width:25%;text-align: left;\">TEAM</th>\n",
      "<th class=\"skip-filter\" style=\"width:25%;\">FUNDS REMAINING</th>\n",
      "<th class=\"skip-filter\" style=\"width:25%;\">OVERSEAS PLAYERS </th>\n",
      "<th class=\"skip-filter\" style=\"width:25%;\">TOTAL PLAYERS</th>\n",
      "</tr>, <tr>\n",
      "<td class=\"ih-t-color\">\n",
      "<div class=\"ih-pt-ic\">\n",
      "<div class=\"ih-pt-img\" style=\"width: 60px\">\n",
      "<img alt=\"\" src=\"https://bcciplayerimages.s3.ap-south-1.amazonaws.com/ipl/franchises/1644311961_CSKroundbig.png\"/>\n",
      "</div>\n",
      "<h2 class=\"ih-pt-cont\">Chennai Super Kings</h2>\n",
      "</div>\n",
      "</td>\n",
      "<td>₹2,95,00,000</td>\n",
      "<td>8</td>\n",
      "<td>25</td>\n",
      "</tr>, <tr>\n",
      "<td class=\"ih-t-color\">\n",
      "<div class=\"ih-pt-ic\">\n",
      "<div class=\"ih-pt-img\" style=\"width: 60px\">\n",
      "<img alt=\"\" src=\"https://bcciplayerimages.s3.ap-south-1.amazonaws.com/ipl/franchises/1644312373_DCroundbig.png\"/>\n",
      "</div>\n",
      "<h2 class=\"ih-pt-cont\">Delhi Capitals</h2>\n",
      "</div>\n",
      "</td>\n",
      "<td>₹10,00,000</td>\n",
      "<td>7</td>\n",
      "<td>24</td>\n",
      "</tr>, <tr>\n",
      "<td class=\"ih-t-color\">\n",
      "<div class=\"ih-pt-ic\">\n",
      "<div class=\"ih-pt-img\" style=\"width: 60px\">\n",
      "<img alt=\"\" src=\"https://bcciplayerimages.s3.ap-south-1.amazonaws.com/ipl/franchises/1645712208_GTroundbig.png\"/>\n",
      "</div>\n",
      "<h2 class=\"ih-pt-cont\">Gujarat Titans</h2>\n",
      "</div>\n",
      "</td>\n",
      "<td>₹15,00,000</td>\n",
      "<td>8</td>\n",
      "<td>23</td>\n",
      "</tr>, <tr>\n",
      "<td class=\"ih-t-color\">\n",
      "<div class=\"ih-pt-ic\">\n",
      "<div class=\"ih-pt-img\" style=\"width: 60px\">\n",
      "<img alt=\"\" src=\"https://bcciplayerimages.s3.ap-south-1.amazonaws.com/ipl/franchises/1644312095_KKRroundbig.png\"/>\n",
      "</div>\n",
      "<h2 class=\"ih-pt-cont\">Kolkata Knight Riders</h2>\n",
      "</div>\n",
      "</td>\n",
      "<td>₹45,00,000</td>\n",
      "<td>8</td>\n",
      "<td>25</td>\n",
      "</tr>, <tr>\n",
      "<td class=\"ih-t-color\">\n",
      "<div class=\"ih-pt-ic\">\n",
      "<div class=\"ih-pt-img\" style=\"width: 60px\">\n",
      "<img alt=\"\" src=\"https://bcciplayerimages.s3.ap-south-1.amazonaws.com/ipl/franchises/1644487352_lsgrounding.png\"/>\n",
      "</div>\n",
      "<h2 class=\"ih-pt-cont\">Lucknow Super Giants</h2>\n",
      "</div>\n",
      "</td>\n",
      "<td>₹0</td>\n",
      "<td>7</td>\n",
      "<td>21</td>\n",
      "</tr>, <tr>\n",
      "<td class=\"ih-t-color\">\n",
      "<div class=\"ih-pt-ic\">\n",
      "<div class=\"ih-pt-img\" style=\"width: 60px\">\n",
      "<img alt=\"\" src=\"https://bcciplayerimages.s3.ap-south-1.amazonaws.com/ipl/franchises/1644312227_MIroundbig.png\"/>\n",
      "</div>\n",
      "<h2 class=\"ih-pt-cont\">Mumbai Indians</h2>\n",
      "</div>\n",
      "</td>\n",
      "<td>₹10,00,000</td>\n",
      "<td>8</td>\n",
      "<td>25</td>\n",
      "</tr>, <tr>\n",
      "<td class=\"ih-t-color\">\n",
      "<div class=\"ih-pt-ic\">\n",
      "<div class=\"ih-pt-img\" style=\"width: 60px\">\n",
      "<img alt=\"\" src=\"https://bcciplayerimages.s3.ap-south-1.amazonaws.com/ipl/franchises/1644312239_PBKSroundbig.png\"/>\n",
      "</div>\n",
      "<h2 class=\"ih-pt-cont\">Punjab Kings</h2>\n",
      "</div>\n",
      "</td>\n",
      "<td>₹3,45,00,000</td>\n",
      "<td>7</td>\n",
      "<td>25</td>\n",
      "</tr>, <tr>\n",
      "<td class=\"ih-t-color\">\n",
      "<div class=\"ih-pt-ic\">\n",
      "<div class=\"ih-pt-img\" style=\"width: 60px\">\n",
      "<img alt=\"\" src=\"https://bcciplayerimages.s3.ap-south-1.amazonaws.com/ipl/franchises/1644312268_RRroundbig.png\"/>\n",
      "</div>\n",
      "<h2 class=\"ih-pt-cont\">Rajasthan Royals</h2>\n",
      "</div>\n",
      "</td>\n",
      "<td>₹95,00,000</td>\n",
      "<td>8</td>\n",
      "<td>24</td>\n",
      "</tr>, <tr>\n",
      "<td class=\"ih-t-color\">\n",
      "<div class=\"ih-pt-ic\">\n",
      "<div class=\"ih-pt-img\" style=\"width: 60px\">\n",
      "<img alt=\"\" src=\"https://bcciplayerimages.s3.ap-south-1.amazonaws.com/ipl/franchises/1644312253_RCBroundbig.png\"/>\n",
      "</div>\n",
      "<h2 class=\"ih-pt-cont\">Royal Challengers Bangalore</h2>\n",
      "</div>\n",
      "</td>\n",
      "<td>₹1,55,00,000</td>\n",
      "<td>8</td>\n",
      "<td>22</td>\n",
      "</tr>, <tr>\n",
      "<td class=\"ih-t-color\">\n",
      "<div class=\"ih-pt-ic\">\n",
      "<div class=\"ih-pt-img\" style=\"width: 60px\">\n",
      "<img alt=\"\" src=\"https://bcciplayerimages.s3.ap-south-1.amazonaws.com/ipl/franchises/1644312281_SRHroundbig.png\"/>\n",
      "</div>\n",
      "<h2 class=\"ih-pt-cont\">Sunrisers Hyderabad</h2>\n",
      "</div>\n",
      "</td>\n",
      "<td>₹10,00,000</td>\n",
      "<td>8</td>\n",
      "<td>23</td>\n",
      "</tr>]\n"
     ]
    }
   ],
   "source": [
    "rows = table.find_all(\"tr\")\n",
    "print(rows)"
   ]
  },
  {
   "cell_type": "code",
   "execution_count": 42,
   "id": "dff3c397",
   "metadata": {},
   "outputs": [
    {
     "data": {
      "text/plain": [
       "[['\\n\\n\\n\\n\\nChennai Super Kings\\n\\n', '₹2,95,00,000', '8', '25'],\n",
       " ['\\n\\n\\n\\n\\nDelhi Capitals\\n\\n', '₹10,00,000', '7', '24'],\n",
       " ['\\n\\n\\n\\n\\nGujarat Titans\\n\\n', '₹15,00,000', '8', '23'],\n",
       " ['\\n\\n\\n\\n\\nKolkata Knight Riders\\n\\n', '₹45,00,000', '8', '25'],\n",
       " ['\\n\\n\\n\\n\\nLucknow Super Giants\\n\\n', '₹0', '7', '21'],\n",
       " ['\\n\\n\\n\\n\\nMumbai Indians\\n\\n', '₹10,00,000', '8', '25'],\n",
       " ['\\n\\n\\n\\n\\nPunjab Kings\\n\\n', '₹3,45,00,000', '7', '25'],\n",
       " ['\\n\\n\\n\\n\\nRajasthan Royals\\n\\n', '₹95,00,000', '8', '24'],\n",
       " ['\\n\\n\\n\\n\\nRoyal Challengers Bangalore\\n\\n', '₹1,55,00,000', '8', '22'],\n",
       " ['\\n\\n\\n\\n\\nSunrisers Hyderabad\\n\\n', '₹10,00,000', '8', '23']]"
      ]
     },
     "execution_count": 42,
     "metadata": {},
     "output_type": "execute_result"
    }
   ],
   "source": [
    "table_data = []\n",
    "\n",
    "for i in rows[1:]:\n",
    "    data = i.find_all(\"td\")\n",
    "    temp = []\n",
    "    for j in data:\n",
    "        temp.append(j.text)\n",
    "    table_data.append(temp)\n",
    "        \n",
    "table_data"
   ]
  },
  {
   "cell_type": "code",
   "execution_count": 49,
   "id": "5c4a93d9",
   "metadata": {},
   "outputs": [
    {
     "data": {
      "text/plain": [
       "[['Chennai Super Kings', '₹2,95,00,000', '8', '25'],\n",
       " ['Delhi Capitals', '₹10,00,000', '7', '24'],\n",
       " ['Gujarat Titans', '₹15,00,000', '8', '23'],\n",
       " ['Kolkata Knight Riders', '₹45,00,000', '8', '25'],\n",
       " ['Lucknow Super Giants', '₹0', '7', '21'],\n",
       " ['Mumbai Indians', '₹10,00,000', '8', '25'],\n",
       " ['Punjab Kings', '₹3,45,00,000', '7', '25'],\n",
       " ['Rajasthan Royals', '₹95,00,000', '8', '24'],\n",
       " ['Royal Challengers Bangalore', '₹1,55,00,000', '8', '22'],\n",
       " ['Sunrisers Hyderabad', '₹10,00,000', '8', '23']]"
      ]
     },
     "execution_count": 49,
     "metadata": {},
     "output_type": "execute_result"
    }
   ],
   "source": [
    "for i in table_data:\n",
    "    for j in range(len(i)):\n",
    "        i[0] = i[0].strip()\n",
    "        \n",
    "table_data"
   ]
  },
  {
   "cell_type": "code",
   "execution_count": 50,
   "id": "55666116",
   "metadata": {},
   "outputs": [],
   "source": [
    "df = pd.DataFrame(table_data, columns=headers)"
   ]
  },
  {
   "cell_type": "code",
   "execution_count": 51,
   "id": "36de50f9",
   "metadata": {},
   "outputs": [
    {
     "data": {
      "text/html": [
       "<div>\n",
       "<style scoped>\n",
       "    .dataframe tbody tr th:only-of-type {\n",
       "        vertical-align: middle;\n",
       "    }\n",
       "\n",
       "    .dataframe tbody tr th {\n",
       "        vertical-align: top;\n",
       "    }\n",
       "\n",
       "    .dataframe thead th {\n",
       "        text-align: right;\n",
       "    }\n",
       "</style>\n",
       "<table border=\"1\" class=\"dataframe\">\n",
       "  <thead>\n",
       "    <tr style=\"text-align: right;\">\n",
       "      <th></th>\n",
       "      <th>TEAM</th>\n",
       "      <th>FUNDS REMAINING</th>\n",
       "      <th>OVERSEAS PLAYERS</th>\n",
       "      <th>TOTAL PLAYERS</th>\n",
       "    </tr>\n",
       "  </thead>\n",
       "  <tbody>\n",
       "    <tr>\n",
       "      <th>0</th>\n",
       "      <td>Chennai Super Kings</td>\n",
       "      <td>₹2,95,00,000</td>\n",
       "      <td>8</td>\n",
       "      <td>25</td>\n",
       "    </tr>\n",
       "    <tr>\n",
       "      <th>1</th>\n",
       "      <td>Delhi Capitals</td>\n",
       "      <td>₹10,00,000</td>\n",
       "      <td>7</td>\n",
       "      <td>24</td>\n",
       "    </tr>\n",
       "    <tr>\n",
       "      <th>2</th>\n",
       "      <td>Gujarat Titans</td>\n",
       "      <td>₹15,00,000</td>\n",
       "      <td>8</td>\n",
       "      <td>23</td>\n",
       "    </tr>\n",
       "    <tr>\n",
       "      <th>3</th>\n",
       "      <td>Kolkata Knight Riders</td>\n",
       "      <td>₹45,00,000</td>\n",
       "      <td>8</td>\n",
       "      <td>25</td>\n",
       "    </tr>\n",
       "    <tr>\n",
       "      <th>4</th>\n",
       "      <td>Lucknow Super Giants</td>\n",
       "      <td>₹0</td>\n",
       "      <td>7</td>\n",
       "      <td>21</td>\n",
       "    </tr>\n",
       "    <tr>\n",
       "      <th>5</th>\n",
       "      <td>Mumbai Indians</td>\n",
       "      <td>₹10,00,000</td>\n",
       "      <td>8</td>\n",
       "      <td>25</td>\n",
       "    </tr>\n",
       "    <tr>\n",
       "      <th>6</th>\n",
       "      <td>Punjab Kings</td>\n",
       "      <td>₹3,45,00,000</td>\n",
       "      <td>7</td>\n",
       "      <td>25</td>\n",
       "    </tr>\n",
       "    <tr>\n",
       "      <th>7</th>\n",
       "      <td>Rajasthan Royals</td>\n",
       "      <td>₹95,00,000</td>\n",
       "      <td>8</td>\n",
       "      <td>24</td>\n",
       "    </tr>\n",
       "    <tr>\n",
       "      <th>8</th>\n",
       "      <td>Royal Challengers Bangalore</td>\n",
       "      <td>₹1,55,00,000</td>\n",
       "      <td>8</td>\n",
       "      <td>22</td>\n",
       "    </tr>\n",
       "    <tr>\n",
       "      <th>9</th>\n",
       "      <td>Sunrisers Hyderabad</td>\n",
       "      <td>₹10,00,000</td>\n",
       "      <td>8</td>\n",
       "      <td>23</td>\n",
       "    </tr>\n",
       "  </tbody>\n",
       "</table>\n",
       "</div>"
      ],
      "text/plain": [
       "                          TEAM FUNDS REMAINING OVERSEAS PLAYERS  TOTAL PLAYERS\n",
       "0          Chennai Super Kings    ₹2,95,00,000                 8            25\n",
       "1               Delhi Capitals      ₹10,00,000                 7            24\n",
       "2               Gujarat Titans      ₹15,00,000                 8            23\n",
       "3        Kolkata Knight Riders      ₹45,00,000                 8            25\n",
       "4         Lucknow Super Giants              ₹0                 7            21\n",
       "5               Mumbai Indians      ₹10,00,000                 8            25\n",
       "6                 Punjab Kings    ₹3,45,00,000                 7            25\n",
       "7             Rajasthan Royals      ₹95,00,000                 8            24\n",
       "8  Royal Challengers Bangalore    ₹1,55,00,000                 8            22\n",
       "9          Sunrisers Hyderabad      ₹10,00,000                 8            23"
      ]
     },
     "execution_count": 51,
     "metadata": {},
     "output_type": "execute_result"
    }
   ],
   "source": [
    "df"
   ]
  },
  {
   "cell_type": "code",
   "execution_count": null,
   "id": "5a09ff6a",
   "metadata": {},
   "outputs": [],
   "source": []
  }
 ],
 "metadata": {
  "kernelspec": {
   "display_name": "Python 3 (ipykernel)",
   "language": "python",
   "name": "python3"
  },
  "language_info": {
   "codemirror_mode": {
    "name": "ipython",
    "version": 3
   },
   "file_extension": ".py",
   "mimetype": "text/x-python",
   "name": "python",
   "nbconvert_exporter": "python",
   "pygments_lexer": "ipython3",
   "version": "3.10.11"
  }
 },
 "nbformat": 4,
 "nbformat_minor": 5
}
